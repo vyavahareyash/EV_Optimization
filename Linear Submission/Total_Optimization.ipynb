{
 "cells": [
  {
   "cell_type": "code",
   "execution_count": 22,
   "id": "1ce553df",
   "metadata": {},
   "outputs": [],
   "source": [
    "from pulp import *   # PuLP - Python Library for Linear Programming\n",
    "import pandas as pd\n",
    "import numpy as np\n",
    "\n",
    "n_supply = 100   #number of supply points\n",
    "n_demand = 4096  #number of demand points\n",
    "\n",
    "#Importing csv files \n",
    "demand_set = pd.read_csv('Demand_Predictions.csv') \n",
    "supply_set = pd.read_csv('exisiting_EV_infrastructure_2018.csv')\n",
    "dist_mat=pd.read_csv('Distance_Matrix.csv')\n",
    "\n",
    "dist_mat=dist_mat.to_numpy()\n",
    "\n",
    "#Smax 2018\n",
    "col=[]\n",
    "for i in range(supply_set.shape[0]):\n",
    "    ans=supply_set.iloc[i:i+1,4].values*200+supply_set.iloc[i:i+1,5].values*400\n",
    "    col.append(int(ans))\n",
    "col=np.array(col)\n",
    "supply_set['Smax18']=col\n",
    "\n",
    "#Demand values of 2019\n",
    "demands19=np.array(demand_set['2019'])\n",
    "\n",
    "#Initialize the PuLP Model\n",
    "model = LpProblem(\"Cost-Optimization-Model\", LpMinimize)\n",
    "\n",
    "#Create variable index ids\n",
    "index_numbers_x = [str(i) for i in range(n_supply*n_demand)]\n",
    "index_numbers_y = [str(i) for i in range(n_supply)]\n",
    "index_numbers_x.sort()\n",
    "index_numbers_y.sort()\n",
    "\n",
    "#Declare X variable (DS)\n",
    "DV_variables = LpVariable.matrix(\"X\", index_numbers_x, cat = \"Continuous\", lowBound= 0 )\n",
    "dsij_mat19 = np.array(DV_variables).reshape(n_supply,n_demand)\n",
    "\n",
    "#Empty parking slots\n",
    "Smax19=[]\n",
    "park_slot=supply_set['total_parking_slots']-(supply_set['existing_num_SCS']+supply_set['existing_num_FCS'])\n",
    "park_slot.to_numpy()\n",
    "\n",
    "#Declare Y variable (Smax)\n",
    "for i in range(n_supply):\n",
    "    lb=int(supply_set.iloc[i:i+1,6].values)\n",
    "    ub=lb+(park_slot[i]*400)\n",
    "    temp=LpVariable('Y_{}'.format(index_numbers_y[i]),cat='Integer',lowBound=lb,upBound=ub)\n",
    "    Smax19.append(temp)\n",
    "Smax19=np.array(Smax19)\n",
    "\n",
    "#Customer Dissatisfaction cost \n",
    "cost_eq1 = lpSum(dsij_mat19*dist_mat)\n",
    "\n",
    "S_var=[]\n",
    "F_var=[]\n",
    "index_numbers_c = [str(i) for i in range(n_supply)]\n",
    "index_numbers_c.sort()\n",
    "\n",
    "#Declare S variable (SCS)\n",
    "for i in range(n_supply):\n",
    "    lb=int(supply_set.iloc[i:i+1,4].values)\n",
    "    temp=LpVariable('S_{}'.format(index_numbers_c[i]),cat='Integer', lowBound=lb)\n",
    "    S_var.append(temp)\n",
    "S_var=np.array(S_var)\n",
    "\n",
    "#Declare F variable (FCS)\n",
    "for i in range(n_supply):\n",
    "    lb=int(supply_set.iloc[i:i+1,5].values)\n",
    "    temp=LpVariable('F_{}'.format(index_numbers_c[i]),cat='Integer',lowBound=lb)\n",
    "    F_var.append(temp)\n",
    "F_var=np.array(F_var)\n",
    "\n",
    "#Infrastructure cost\n",
    "cost_eq2=lpSum(S_var)+1.5*lpSum(F_var)\n",
    "\n",
    "#Final cost\n",
    "cost_eq3=cost_eq1+(600*cost_eq2)\n",
    "\n",
    "#Adding the objective equation to the model (minimize)\n",
    "model += cost_eq3\n",
    "\n",
    "#Supply Constraint\n",
    "#Column summation must be less than or equal to Smax \n",
    "for i in range(n_supply):\n",
    "    model += lpSum(dsij_mat19[i][j] for j in range(n_demand)) <= Smax19[i] , \"Supply Constraints \" + str(i)\n",
    "\n",
    "# Demand Constraints\n",
    "#Row summation must be equal to demand forecast\n",
    "for j in range(n_demand):\n",
    "    model += lpSum(dsij_mat19[i][j] for i in range(n_supply)) >= demands19[j] , \"Demand Constraints \" + str(j)\n",
    "\n",
    "#Smax constraint\n",
    "for i in range(n_supply):\n",
    "    constraint = (S_var[i]*200)+(F_var[i]*400) >= Smax19[i]\n",
    "    model += constraint"
   ]
  },
  {
   "cell_type": "code",
   "execution_count": 23,
   "id": "629a70e3",
   "metadata": {},
   "outputs": [
    {
     "name": "stdout",
     "output_type": "stream",
     "text": [
      "Optimal\n"
     ]
    }
   ],
   "source": [
    "model.solve(PULP_CBC_CMD())\n",
    "status =  LpStatus[model.status]\n",
    "print(status)"
   ]
  },
  {
   "cell_type": "code",
   "execution_count": 25,
   "id": "f871109f",
   "metadata": {},
   "outputs": [
    {
     "name": "stdout",
     "output_type": "stream",
     "text": [
      "Total Cost: 2586518.1034316793\n"
     ]
    }
   ],
   "source": [
    "print(\"Total Cost:\", model.objective.value())"
   ]
  },
  {
   "cell_type": "code",
   "execution_count": 43,
   "id": "4e5650c9",
   "metadata": {},
   "outputs": [],
   "source": [
    "allVar=[]\n",
    "for v in model.variables():\n",
    "    k=v.value()\n",
    "    allVar.append(k)\n",
    "\n",
    "p=0\n",
    "F_var=[]\n",
    "S_var=[]\n",
    "for i in range(n_supply):\n",
    "    F_var.append(int(allVar[p]))\n",
    "    p+=1\n",
    "for i in range(n_supply):\n",
    "    S_var.append(int(allVar[p]))\n",
    "    p+=1\n",
    "\n",
    "dsij_mat19=np.zeros((100,4096))\n",
    "    \n",
    "for i in range(n_supply):\n",
    "    for j in range(n_demand):\n",
    "        dsij_mat19[i][j]=allVar[p]\n",
    "        p+=1\n",
    "\n",
    "Smax19=[]\n",
    "for i in range(n_supply):\n",
    "    Smax19.append(int(allVar[p]))\n",
    "    p+=1\n",
    "Smax19=np.array(Smax19)\n",
    "\n",
    "dsij_mat19=pd.DataFrame(dsij_mat19)\n",
    "dsij_mat19.to_csv('Total_Dsij_19.csv') #Export DSij matrix"
   ]
  },
  {
   "cell_type": "code",
   "execution_count": 44,
   "id": "f6cfda73",
   "metadata": {},
   "outputs": [
    {
     "name": "stdout",
     "output_type": "stream",
     "text": [
      "15.08854\n",
      "15.088539719581604\n"
     ]
    }
   ],
   "source": [
    "#Checking the Demand constraint (row summation)\n",
    "print(sum(dsij_mat19[0]))\n",
    "#Comparing with demand value\n",
    "print(demands19[0])"
   ]
  },
  {
   "cell_type": "code",
   "execution_count": 45,
   "id": "2a34c1a7",
   "metadata": {},
   "outputs": [
    {
     "name": "stdout",
     "output_type": "stream",
     "text": [
      "7799.999976500001\n",
      "7800\n"
     ]
    }
   ],
   "source": [
    "#Checking the Supply constraint (column summation)\n",
    "print(sum(dsij_mat19.iloc[0,:].values))\n",
    "#Comparing with supply value\n",
    "print(Smax19[0])"
   ]
  },
  {
   "cell_type": "code",
   "execution_count": 49,
   "id": "df52934e",
   "metadata": {},
   "outputs": [],
   "source": [
    "supply_set['Smax19']=Smax19\n",
    "supply_set['SCS_19']=S_var\n",
    "supply_set['FCS_19']=F_var\n",
    "\n",
    "supply_set.to_csv('Total_infra_19.csv') #Export new infrastructure"
   ]
  }
 ],
 "metadata": {
  "kernelspec": {
   "display_name": "Python 3 (ipykernel)",
   "language": "python",
   "name": "python3"
  },
  "language_info": {
   "codemirror_mode": {
    "name": "ipython",
    "version": 3
   },
   "file_extension": ".py",
   "mimetype": "text/x-python",
   "name": "python",
   "nbconvert_exporter": "python",
   "pygments_lexer": "ipython3",
   "version": "3.9.7"
  }
 },
 "nbformat": 4,
 "nbformat_minor": 5
}
