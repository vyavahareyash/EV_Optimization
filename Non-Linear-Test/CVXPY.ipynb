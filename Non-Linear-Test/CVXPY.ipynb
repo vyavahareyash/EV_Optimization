{
 "cells": [
  {
   "cell_type": "code",
   "execution_count": 3,
   "id": "f2800967",
   "metadata": {},
   "outputs": [],
   "source": [
    "import cvxpy as cp\n",
    "import pandas as pd \n",
    "import numpy  as np"
   ]
  },
  {
   "cell_type": "code",
   "execution_count": 4,
   "id": "ef88f188",
   "metadata": {},
   "outputs": [],
   "source": [
    "n_supply = 100   #number of supply points\n",
    "n_demand = 4096  #number of demand points\n",
    "\n",
    "#Importing csv files \n",
    "demand_set = pd.read_csv('Demand_Predictions.csv') \n",
    "supply_set = pd.read_csv('exisiting_EV_infrastructure_2018.csv')\n",
    "dist_mat=pd.read_csv('Distance_Matrix.csv')"
   ]
  },
  {
   "cell_type": "code",
   "execution_count": 5,
   "id": "c9cbc650",
   "metadata": {},
   "outputs": [],
   "source": [
    "dist_mat=dist_mat.to_numpy()"
   ]
  },
  {
   "cell_type": "code",
   "execution_count": 7,
   "id": "5e39e9d8",
   "metadata": {},
   "outputs": [
    {
     "data": {
      "text/plain": [
       "(100, 4096)"
      ]
     },
     "execution_count": 7,
     "metadata": {},
     "output_type": "execute_result"
    }
   ],
   "source": [
    "dist_mat.shape"
   ]
  },
  {
   "cell_type": "code",
   "execution_count": 9,
   "id": "a00e1c3a",
   "metadata": {},
   "outputs": [],
   "source": [
    "X = cp.Variable((n_supply,n_demand))"
   ]
  },
  {
   "cell_type": "code",
   "execution_count": 15,
   "id": "f46fed3c",
   "metadata": {},
   "outputs": [],
   "source": [
    "cost_eq = [X[i][j]*dist_mat[i][j] for i in range(100) for j in range(4096)]"
   ]
  },
  {
   "cell_type": "code",
   "execution_count": null,
   "id": "44a7907e",
   "metadata": {},
   "outputs": [],
   "source": [
    "cp.sum([X[i][j]*dist_mat[i][j] for i in range(100) for j in range(4096)])"
   ]
  },
  {
   "cell_type": "code",
   "execution_count": null,
   "id": "b78ef70b",
   "metadata": {},
   "outputs": [],
   "source": []
  }
 ],
 "metadata": {
  "kernelspec": {
   "display_name": "Python 3 (ipykernel)",
   "language": "python",
   "name": "python3"
  },
  "language_info": {
   "codemirror_mode": {
    "name": "ipython",
    "version": 3
   },
   "file_extension": ".py",
   "mimetype": "text/x-python",
   "name": "python",
   "nbconvert_exporter": "python",
   "pygments_lexer": "ipython3",
   "version": "3.9.7"
  }
 },
 "nbformat": 4,
 "nbformat_minor": 5
}
