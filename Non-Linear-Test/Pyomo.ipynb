{
 "cells": [
  {
   "cell_type": "code",
   "execution_count": 2,
   "id": "c35a033a",
   "metadata": {},
   "outputs": [],
   "source": [
    "from pyomo.environ import *\n",
    "import math "
   ]
  },
  {
   "cell_type": "code",
   "execution_count": 3,
   "id": "8c4abf56",
   "metadata": {},
   "outputs": [],
   "source": [
    "model = ConcreteModel()"
   ]
  },
  {
   "cell_type": "code",
   "execution_count": 4,
   "id": "e34d7f69",
   "metadata": {},
   "outputs": [],
   "source": [
    "model.x1 = Var(bounds=(0,4))"
   ]
  },
  {
   "cell_type": "code",
   "execution_count": 5,
   "id": "2e00e245",
   "metadata": {},
   "outputs": [
    {
     "data": {
      "text/plain": [
       "<pyomo.core.base.var.ScalarVar at 0x277ccea5660>"
      ]
     },
     "execution_count": 5,
     "metadata": {},
     "output_type": "execute_result"
    }
   ],
   "source": [
    "model.x1"
   ]
  },
  {
   "cell_type": "code",
   "execution_count": null,
   "id": "3272e170",
   "metadata": {},
   "outputs": [],
   "source": []
  }
 ],
 "metadata": {
  "kernelspec": {
   "display_name": "Python 3 (ipykernel)",
   "language": "python",
   "name": "python3"
  },
  "language_info": {
   "codemirror_mode": {
    "name": "ipython",
    "version": 3
   },
   "file_extension": ".py",
   "mimetype": "text/x-python",
   "name": "python",
   "nbconvert_exporter": "python",
   "pygments_lexer": "ipython3",
   "version": "3.9.7"
  }
 },
 "nbformat": 4,
 "nbformat_minor": 5
}
