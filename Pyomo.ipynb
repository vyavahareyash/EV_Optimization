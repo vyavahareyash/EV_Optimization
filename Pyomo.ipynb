{
 "cells": [
  {
   "cell_type": "code",
   "execution_count": 8,
   "id": "246f68ca",
   "metadata": {},
   "outputs": [
    {
     "name": "stdout",
     "output_type": "stream",
     "text": [
      "# ==========================================================\n",
      "# = Solver Results                                         =\n",
      "# ==========================================================\n",
      "# ----------------------------------------------------------\n",
      "#   Problem Information\n",
      "# ----------------------------------------------------------\n",
      "Problem: \n",
      "- Name: unknown\n",
      "  Lower bound: 320.0\n",
      "  Upper bound: 320.0\n",
      "  Number of objectives: 1\n",
      "  Number of constraints: 3\n",
      "  Number of variables: 3\n",
      "  Number of nonzeros: 5\n",
      "  Sense: minimize\n",
      "# ----------------------------------------------------------\n",
      "#   Solver Information\n",
      "# ----------------------------------------------------------\n",
      "Solver: \n",
      "- Status: ok\n",
      "  Termination condition: optimal\n",
      "  Statistics: \n",
      "    Branch and bound: \n",
      "      Number of bounded subproblems: 0\n",
      "      Number of created subproblems: 0\n",
      "  Error rc: 0\n",
      "  Time: 0.04727578163146973\n",
      "# ----------------------------------------------------------\n",
      "#   Solution Information\n",
      "# ----------------------------------------------------------\n",
      "Solution: \n",
      "- number of solutions: 0\n",
      "  number of solutions displayed: 0\n",
      "\n",
      " RESULTS \n",
      "\n",
      "Cost of advertisement campaign =  320.0\n",
      "Number of comedy ads purchased =  3.6\n",
      "Number of football ads purchased =  1.4\n"
     ]
    }
   ],
   "source": [
    "import pyomo.environ as pyomo\n",
    "from pyomo.opt import SolverFactory\n",
    "\n",
    "model = pyomo.ConcreteModel();\n",
    "\n",
    "#Variable declaration\n",
    "model.x1 = pyomo.Var();\n",
    "model.x2 = pyomo.Var();\n",
    "\n",
    "#Objective function definition\n",
    "model.obj = pyomo.Objective(expr =50*model.x1 +100*model.x2, sense = pyomo.minimize);\n",
    "\n",
    "#Constraint definition\n",
    "def rule1(model):\n",
    "    return 7*model.x1 + 2*model.x2 >= 28\n",
    "model.eq1 = pyomo.Constraint(rule = rule1, doc = 'Constraint  1');\n",
    "\n",
    "def rule2(model):\n",
    "    return 2*model.x1 + 12*model.x2 >= 24\n",
    "model.eq2 = pyomo.Constraint(rule = rule2, doc = 'Constraint 2');\n",
    "\n",
    "#Solver options\n",
    "results = pyomo.SolverFactory('glpk').solve(model);\n",
    "#opt = SolverFactory('glpk')\n",
    "#opt.solve(model) \n",
    "\n",
    "results.write()\n",
    "print(\"\\n RESULTS \\n\");\n",
    "\n",
    "print('Cost of advertisement campaign = ', model.obj())\n",
    "print(\"Number of comedy ads purchased = \", model.x1())\n",
    "print(\"Number of football ads purchased = \", model.x2())"
   ]
  },
  {
   "cell_type": "code",
   "execution_count": null,
   "id": "0bc4a1ce",
   "metadata": {},
   "outputs": [],
   "source": []
  }
 ],
 "metadata": {
  "kernelspec": {
   "display_name": "Python 3 (ipykernel)",
   "language": "python",
   "name": "python3"
  },
  "language_info": {
   "codemirror_mode": {
    "name": "ipython",
    "version": 3
   },
   "file_extension": ".py",
   "mimetype": "text/x-python",
   "name": "python",
   "nbconvert_exporter": "python",
   "pygments_lexer": "ipython3",
   "version": "3.9.7"
  }
 },
 "nbformat": 4,
 "nbformat_minor": 5
}
