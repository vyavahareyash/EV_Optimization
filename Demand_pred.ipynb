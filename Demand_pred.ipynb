{
 "cells": [
  {
   "cell_type": "code",
   "execution_count": 1,
   "id": "8d816f82",
   "metadata": {},
   "outputs": [],
   "source": [
    "import numpy as np\n",
    "import matplotlib.pyplot as plt\n",
    "import pandas as pd"
   ]
  },
  {
   "cell_type": "code",
   "execution_count": 2,
   "id": "9802871d",
   "metadata": {},
   "outputs": [],
   "source": [
    "dataset = pd.read_csv('Demand_History.csv')"
   ]
  },
  {
   "cell_type": "code",
   "execution_count": 3,
   "id": "c44ffcef",
   "metadata": {},
   "outputs": [
    {
     "data": {
      "text/html": [
       "<div>\n",
       "<style scoped>\n",
       "    .dataframe tbody tr th:only-of-type {\n",
       "        vertical-align: middle;\n",
       "    }\n",
       "\n",
       "    .dataframe tbody tr th {\n",
       "        vertical-align: top;\n",
       "    }\n",
       "\n",
       "    .dataframe thead th {\n",
       "        text-align: right;\n",
       "    }\n",
       "</style>\n",
       "<table border=\"1\" class=\"dataframe\">\n",
       "  <thead>\n",
       "    <tr style=\"text-align: right;\">\n",
       "      <th></th>\n",
       "      <th>demand_point_index</th>\n",
       "      <th>x_coordinate</th>\n",
       "      <th>y_coordinate</th>\n",
       "      <th>2010</th>\n",
       "      <th>2011</th>\n",
       "      <th>2012</th>\n",
       "      <th>2013</th>\n",
       "      <th>2014</th>\n",
       "      <th>2015</th>\n",
       "      <th>2016</th>\n",
       "      <th>2017</th>\n",
       "      <th>2018</th>\n",
       "    </tr>\n",
       "  </thead>\n",
       "  <tbody>\n",
       "    <tr>\n",
       "      <th>0</th>\n",
       "      <td>0</td>\n",
       "      <td>0.5</td>\n",
       "      <td>0.5</td>\n",
       "      <td>0.352242</td>\n",
       "      <td>0.667932</td>\n",
       "      <td>0.958593</td>\n",
       "      <td>2.911901</td>\n",
       "      <td>4.338274</td>\n",
       "      <td>6.561995</td>\n",
       "      <td>8.454417</td>\n",
       "      <td>10.595324</td>\n",
       "      <td>13.119572</td>\n",
       "    </tr>\n",
       "    <tr>\n",
       "      <th>1</th>\n",
       "      <td>1</td>\n",
       "      <td>1.5</td>\n",
       "      <td>0.5</td>\n",
       "      <td>0.325940</td>\n",
       "      <td>0.591964</td>\n",
       "      <td>0.862652</td>\n",
       "      <td>2.589068</td>\n",
       "      <td>4.196034</td>\n",
       "      <td>5.745551</td>\n",
       "      <td>8.753195</td>\n",
       "      <td>11.126995</td>\n",
       "      <td>12.020091</td>\n",
       "    </tr>\n",
       "    <tr>\n",
       "      <th>2</th>\n",
       "      <td>2</td>\n",
       "      <td>2.5</td>\n",
       "      <td>0.5</td>\n",
       "      <td>0.373752</td>\n",
       "      <td>0.591890</td>\n",
       "      <td>0.969733</td>\n",
       "      <td>2.641432</td>\n",
       "      <td>3.541772</td>\n",
       "      <td>5.469161</td>\n",
       "      <td>8.414627</td>\n",
       "      <td>10.115336</td>\n",
       "      <td>14.018254</td>\n",
       "    </tr>\n",
       "    <tr>\n",
       "      <th>3</th>\n",
       "      <td>3</td>\n",
       "      <td>3.5</td>\n",
       "      <td>0.5</td>\n",
       "      <td>0.420686</td>\n",
       "      <td>0.584055</td>\n",
       "      <td>0.906547</td>\n",
       "      <td>2.378577</td>\n",
       "      <td>3.888121</td>\n",
       "      <td>5.846089</td>\n",
       "      <td>9.083868</td>\n",
       "      <td>12.424885</td>\n",
       "      <td>15.012302</td>\n",
       "    </tr>\n",
       "    <tr>\n",
       "      <th>4</th>\n",
       "      <td>4</td>\n",
       "      <td>4.5</td>\n",
       "      <td>0.5</td>\n",
       "      <td>0.475621</td>\n",
       "      <td>0.647940</td>\n",
       "      <td>0.981544</td>\n",
       "      <td>2.665400</td>\n",
       "      <td>4.218711</td>\n",
       "      <td>6.776609</td>\n",
       "      <td>8.851107</td>\n",
       "      <td>11.731131</td>\n",
       "      <td>16.355563</td>\n",
       "    </tr>\n",
       "  </tbody>\n",
       "</table>\n",
       "</div>"
      ],
      "text/plain": [
       "   demand_point_index  x_coordinate  y_coordinate      2010      2011  \\\n",
       "0                   0           0.5           0.5  0.352242  0.667932   \n",
       "1                   1           1.5           0.5  0.325940  0.591964   \n",
       "2                   2           2.5           0.5  0.373752  0.591890   \n",
       "3                   3           3.5           0.5  0.420686  0.584055   \n",
       "4                   4           4.5           0.5  0.475621  0.647940   \n",
       "\n",
       "       2012      2013      2014      2015      2016       2017       2018  \n",
       "0  0.958593  2.911901  4.338274  6.561995  8.454417  10.595324  13.119572  \n",
       "1  0.862652  2.589068  4.196034  5.745551  8.753195  11.126995  12.020091  \n",
       "2  0.969733  2.641432  3.541772  5.469161  8.414627  10.115336  14.018254  \n",
       "3  0.906547  2.378577  3.888121  5.846089  9.083868  12.424885  15.012302  \n",
       "4  0.981544  2.665400  4.218711  6.776609  8.851107  11.731131  16.355563  "
      ]
     },
     "execution_count": 3,
     "metadata": {},
     "output_type": "execute_result"
    }
   ],
   "source": [
    "dataset.head()"
   ]
  },
  {
   "cell_type": "code",
   "execution_count": 4,
   "id": "af760774",
   "metadata": {},
   "outputs": [
    {
     "data": {
      "text/html": [
       "<div>\n",
       "<style scoped>\n",
       "    .dataframe tbody tr th:only-of-type {\n",
       "        vertical-align: middle;\n",
       "    }\n",
       "\n",
       "    .dataframe tbody tr th {\n",
       "        vertical-align: top;\n",
       "    }\n",
       "\n",
       "    .dataframe thead th {\n",
       "        text-align: right;\n",
       "    }\n",
       "</style>\n",
       "<table border=\"1\" class=\"dataframe\">\n",
       "  <thead>\n",
       "    <tr style=\"text-align: right;\">\n",
       "      <th></th>\n",
       "      <th>demand_point_index</th>\n",
       "      <th>x_coordinate</th>\n",
       "      <th>y_coordinate</th>\n",
       "      <th>2010</th>\n",
       "      <th>2011</th>\n",
       "      <th>2012</th>\n",
       "      <th>2013</th>\n",
       "      <th>2014</th>\n",
       "      <th>2015</th>\n",
       "      <th>2016</th>\n",
       "      <th>2017</th>\n",
       "      <th>2018</th>\n",
       "    </tr>\n",
       "  </thead>\n",
       "  <tbody>\n",
       "    <tr>\n",
       "      <th>0</th>\n",
       "      <td>0</td>\n",
       "      <td>0.5</td>\n",
       "      <td>0.5</td>\n",
       "      <td>0.352242</td>\n",
       "      <td>0.667932</td>\n",
       "      <td>0.958593</td>\n",
       "      <td>2.911901</td>\n",
       "      <td>4.338274</td>\n",
       "      <td>6.561995</td>\n",
       "      <td>8.454417</td>\n",
       "      <td>10.595324</td>\n",
       "      <td>13.119572</td>\n",
       "    </tr>\n",
       "    <tr>\n",
       "      <th>1</th>\n",
       "      <td>1</td>\n",
       "      <td>1.5</td>\n",
       "      <td>0.5</td>\n",
       "      <td>0.325940</td>\n",
       "      <td>0.591964</td>\n",
       "      <td>0.862652</td>\n",
       "      <td>2.589068</td>\n",
       "      <td>4.196034</td>\n",
       "      <td>5.745551</td>\n",
       "      <td>8.753195</td>\n",
       "      <td>11.126995</td>\n",
       "      <td>12.020091</td>\n",
       "    </tr>\n",
       "    <tr>\n",
       "      <th>2</th>\n",
       "      <td>2</td>\n",
       "      <td>2.5</td>\n",
       "      <td>0.5</td>\n",
       "      <td>0.373752</td>\n",
       "      <td>0.591890</td>\n",
       "      <td>0.969733</td>\n",
       "      <td>2.641432</td>\n",
       "      <td>3.541772</td>\n",
       "      <td>5.469161</td>\n",
       "      <td>8.414627</td>\n",
       "      <td>10.115336</td>\n",
       "      <td>14.018254</td>\n",
       "    </tr>\n",
       "    <tr>\n",
       "      <th>3</th>\n",
       "      <td>3</td>\n",
       "      <td>3.5</td>\n",
       "      <td>0.5</td>\n",
       "      <td>0.420686</td>\n",
       "      <td>0.584055</td>\n",
       "      <td>0.906547</td>\n",
       "      <td>2.378577</td>\n",
       "      <td>3.888121</td>\n",
       "      <td>5.846089</td>\n",
       "      <td>9.083868</td>\n",
       "      <td>12.424885</td>\n",
       "      <td>15.012302</td>\n",
       "    </tr>\n",
       "    <tr>\n",
       "      <th>4</th>\n",
       "      <td>4</td>\n",
       "      <td>4.5</td>\n",
       "      <td>0.5</td>\n",
       "      <td>0.475621</td>\n",
       "      <td>0.647940</td>\n",
       "      <td>0.981544</td>\n",
       "      <td>2.665400</td>\n",
       "      <td>4.218711</td>\n",
       "      <td>6.776609</td>\n",
       "      <td>8.851107</td>\n",
       "      <td>11.731131</td>\n",
       "      <td>16.355563</td>\n",
       "    </tr>\n",
       "    <tr>\n",
       "      <th>...</th>\n",
       "      <td>...</td>\n",
       "      <td>...</td>\n",
       "      <td>...</td>\n",
       "      <td>...</td>\n",
       "      <td>...</td>\n",
       "      <td>...</td>\n",
       "      <td>...</td>\n",
       "      <td>...</td>\n",
       "      <td>...</td>\n",
       "      <td>...</td>\n",
       "      <td>...</td>\n",
       "      <td>...</td>\n",
       "    </tr>\n",
       "    <tr>\n",
       "      <th>3416</th>\n",
       "      <td>3416</td>\n",
       "      <td>24.5</td>\n",
       "      <td>53.5</td>\n",
       "      <td>0.205698</td>\n",
       "      <td>0.422026</td>\n",
       "      <td>0.809434</td>\n",
       "      <td>2.340341</td>\n",
       "      <td>4.154240</td>\n",
       "      <td>4.558107</td>\n",
       "      <td>4.930619</td>\n",
       "      <td>8.838411</td>\n",
       "      <td>9.518247</td>\n",
       "    </tr>\n",
       "    <tr>\n",
       "      <th>3417</th>\n",
       "      <td>3417</td>\n",
       "      <td>25.5</td>\n",
       "      <td>53.5</td>\n",
       "      <td>0.206787</td>\n",
       "      <td>0.463343</td>\n",
       "      <td>0.729182</td>\n",
       "      <td>2.127761</td>\n",
       "      <td>3.872720</td>\n",
       "      <td>4.416838</td>\n",
       "      <td>4.895929</td>\n",
       "      <td>8.513553</td>\n",
       "      <td>8.690589</td>\n",
       "    </tr>\n",
       "    <tr>\n",
       "      <th>3418</th>\n",
       "      <td>3418</td>\n",
       "      <td>26.5</td>\n",
       "      <td>53.5</td>\n",
       "      <td>0.253071</td>\n",
       "      <td>0.552902</td>\n",
       "      <td>0.896734</td>\n",
       "      <td>2.541833</td>\n",
       "      <td>4.167677</td>\n",
       "      <td>5.060765</td>\n",
       "      <td>7.046656</td>\n",
       "      <td>10.248423</td>\n",
       "      <td>10.130063</td>\n",
       "    </tr>\n",
       "    <tr>\n",
       "      <th>3419</th>\n",
       "      <td>3419</td>\n",
       "      <td>27.5</td>\n",
       "      <td>53.5</td>\n",
       "      <td>4.991216</td>\n",
       "      <td>10.049638</td>\n",
       "      <td>19.139197</td>\n",
       "      <td>51.706018</td>\n",
       "      <td>88.549988</td>\n",
       "      <td>122.179402</td>\n",
       "      <td>177.799869</td>\n",
       "      <td>240.714657</td>\n",
       "      <td>251.516544</td>\n",
       "    </tr>\n",
       "    <tr>\n",
       "      <th>3420</th>\n",
       "      <td>3420</td>\n",
       "      <td>28.5</td>\n",
       "      <td>53.5</td>\n",
       "      <td>4.324298</td>\n",
       "      <td>10.558009</td>\n",
       "      <td>18.851297</td>\n",
       "      <td>46.793968</td>\n",
       "      <td>80.469102</td>\n",
       "      <td>101.511853</td>\n",
       "      <td>139.013241</td>\n",
       "      <td>208.948246</td>\n",
       "      <td>227.256581</td>\n",
       "    </tr>\n",
       "  </tbody>\n",
       "</table>\n",
       "<p>3421 rows × 12 columns</p>\n",
       "</div>"
      ],
      "text/plain": [
       "      demand_point_index  x_coordinate  y_coordinate      2010       2011  \\\n",
       "0                      0           0.5           0.5  0.352242   0.667932   \n",
       "1                      1           1.5           0.5  0.325940   0.591964   \n",
       "2                      2           2.5           0.5  0.373752   0.591890   \n",
       "3                      3           3.5           0.5  0.420686   0.584055   \n",
       "4                      4           4.5           0.5  0.475621   0.647940   \n",
       "...                  ...           ...           ...       ...        ...   \n",
       "3416                3416          24.5          53.5  0.205698   0.422026   \n",
       "3417                3417          25.5          53.5  0.206787   0.463343   \n",
       "3418                3418          26.5          53.5  0.253071   0.552902   \n",
       "3419                3419          27.5          53.5  4.991216  10.049638   \n",
       "3420                3420          28.5          53.5  4.324298  10.558009   \n",
       "\n",
       "           2012       2013       2014        2015        2016        2017  \\\n",
       "0      0.958593   2.911901   4.338274    6.561995    8.454417   10.595324   \n",
       "1      0.862652   2.589068   4.196034    5.745551    8.753195   11.126995   \n",
       "2      0.969733   2.641432   3.541772    5.469161    8.414627   10.115336   \n",
       "3      0.906547   2.378577   3.888121    5.846089    9.083868   12.424885   \n",
       "4      0.981544   2.665400   4.218711    6.776609    8.851107   11.731131   \n",
       "...         ...        ...        ...         ...         ...         ...   \n",
       "3416   0.809434   2.340341   4.154240    4.558107    4.930619    8.838411   \n",
       "3417   0.729182   2.127761   3.872720    4.416838    4.895929    8.513553   \n",
       "3418   0.896734   2.541833   4.167677    5.060765    7.046656   10.248423   \n",
       "3419  19.139197  51.706018  88.549988  122.179402  177.799869  240.714657   \n",
       "3420  18.851297  46.793968  80.469102  101.511853  139.013241  208.948246   \n",
       "\n",
       "            2018  \n",
       "0      13.119572  \n",
       "1      12.020091  \n",
       "2      14.018254  \n",
       "3      15.012302  \n",
       "4      16.355563  \n",
       "...          ...  \n",
       "3416    9.518247  \n",
       "3417    8.690589  \n",
       "3418   10.130063  \n",
       "3419  251.516544  \n",
       "3420  227.256581  \n",
       "\n",
       "[3421 rows x 12 columns]"
      ]
     },
     "execution_count": 4,
     "metadata": {},
     "output_type": "execute_result"
    }
   ],
   "source": [
    "dataset.head(3421)"
   ]
  },
  {
   "cell_type": "code",
   "execution_count": 5,
   "id": "cd77e434",
   "metadata": {},
   "outputs": [],
   "source": [
    "x = [[2010],[2011],[2012],[2013],[2014],[2015],[2016],[2017],[2018]]\n",
    "y = dataset.iloc[255:256,3:].values"
   ]
  },
  {
   "cell_type": "code",
   "execution_count": 6,
   "id": "d372397e",
   "metadata": {},
   "outputs": [],
   "source": [
    "x=np.array(x)"
   ]
  },
  {
   "cell_type": "code",
   "execution_count": 7,
   "id": "019f1256",
   "metadata": {},
   "outputs": [
    {
     "data": {
      "image/png": "[encoded data removed]",
      "text/plain": [
       "<Figure size 432x288 with 1 Axes>"
      ]
     },
     "metadata": {
      "needs_background": "light"
     },
     "output_type": "display_data"
    }
   ],
   "source": [
    "plt.scatter(x,y,color='red')\n",
    "plt.title('Demand value curve by year')\n",
    "plt.ylabel('Demand Value')\n",
    "plt.xlabel('Year')\n",
    "plt.show()"
   ]
  },
  {
   "cell_type": "code",
   "execution_count": 8,
   "id": "bab8ee2d",
   "metadata": {},
   "outputs": [
    {
     "data": {
      "text/plain": [
       "array([[2010],\n",
       "       [2011],\n",
       "       [2012],\n",
       "       [2013],\n",
       "       [2014],\n",
       "       [2015],\n",
       "       [2016],\n",
       "       [2017],\n",
       "       [2018]])"
      ]
     },
     "execution_count": 8,
     "metadata": {},
     "output_type": "execute_result"
    }
   ],
   "source": [
    "x"
   ]
  },
  {
   "cell_type": "code",
   "execution_count": 9,
   "id": "bd3ae59d",
   "metadata": {},
   "outputs": [
    {
     "data": {
      "text/plain": [
       "array([[0.03523258, 0.0696099 , 0.14165632, 0.28919515, 0.74786475,\n",
       "        0.90903447, 1.15889106, 1.37584188, 1.53374898]])"
      ]
     },
     "execution_count": 9,
     "metadata": {},
     "output_type": "execute_result"
    }
   ],
   "source": [
    "y"
   ]
  },
  {
   "cell_type": "code",
   "execution_count": 10,
   "id": "ee8a09ca",
   "metadata": {},
   "outputs": [],
   "source": [
    "y = y.flatten()"
   ]
  },
  {
   "cell_type": "code",
   "execution_count": 11,
   "id": "f41300a7",
   "metadata": {},
   "outputs": [
    {
     "data": {
      "text/plain": [
       "array([0.03523258, 0.0696099 , 0.14165632, 0.28919515, 0.74786475,\n",
       "       0.90903447, 1.15889106, 1.37584188, 1.53374898])"
      ]
     },
     "execution_count": 11,
     "metadata": {},
     "output_type": "execute_result"
    }
   ],
   "source": [
    "y"
   ]
  },
  {
   "cell_type": "code",
   "execution_count": null,
   "id": "5b1b05cd",
   "metadata": {},
   "outputs": [],
   "source": [
    "from sklearn.linear_model import LinearRegression"
   ]
  },
  {
   "cell_type": "code",
   "execution_count": null,
   "id": "4f338dd0",
   "metadata": {},
   "outputs": [],
   "source": [
    "from sklearn.preprocessing import PolynomialFeatures"
   ]
  },
  {
   "cell_type": "code",
   "execution_count": null,
   "id": "bdda67bc",
   "metadata": {},
   "outputs": [],
   "source": [
    "poly_reg = PolynomialFeatures(degree = 2)"
   ]
  },
  {
   "cell_type": "code",
   "execution_count": null,
   "id": "9112bfa0",
   "metadata": {},
   "outputs": [],
   "source": [
    "x_poly = poly_reg.fit_transform(x)"
   ]
  },
  {
   "cell_type": "code",
   "execution_count": null,
   "id": "3f30a2da",
   "metadata": {},
   "outputs": [],
   "source": [
    "x_poly"
   ]
  },
  {
   "cell_type": "code",
   "execution_count": null,
   "id": "2e5433e5",
   "metadata": {},
   "outputs": [],
   "source": [
    "lin_reg_2 = LinearRegression()\n",
    "lin_reg_2.fit(x_poly,y)"
   ]
  },
  {
   "cell_type": "code",
   "execution_count": null,
   "id": "d58c4ec6",
   "metadata": {},
   "outputs": [],
   "source": [
    "plt.scatter(x,y,color='red')\n",
    "plt.plot(x,lin_reg_2.predict(x_poly),color='blue')\n",
    "plt.title('Demand value curve by year')\n",
    "plt.ylabel('Demand Value')\n",
    "plt.xlabel('Year')\n",
    "plt.show()"
   ]
  },
  {
   "cell_type": "code",
   "execution_count": null,
   "id": "83a51c10",
   "metadata": {},
   "outputs": [],
   "source": [
    "poly_reg_3 = PolynomialFeatures(degree = 3)\n",
    "x_poly_3 = poly_reg_3.fit_transform(x)\n",
    "lin_reg_3 = LinearRegression()\n",
    "lin_reg_3.fit(x_poly_3,y)"
   ]
  },
  {
   "cell_type": "code",
   "execution_count": null,
   "id": "a0d435b9",
   "metadata": {},
   "outputs": [],
   "source": [
    "plt.scatter(x,y,color='red')\n",
    "plt.plot(x,lin_reg_3.predict(x_poly_3),color='blue')\n",
    "plt.title('Demand value curve by year')\n",
    "plt.ylabel('Demand Value')\n",
    "plt.xlabel('Year')\n",
    "plt.show()"
   ]
  },
  {
   "cell_type": "code",
   "execution_count": null,
   "id": "3b117029",
   "metadata": {},
   "outputs": [],
   "source": [
    "lin_reg_3.predict(poly_reg_3.transform([[2019]]))"
   ]
  },
  {
   "cell_type": "code",
   "execution_count": null,
   "id": "2d431d3e",
   "metadata": {},
   "outputs": [],
   "source": [
    "lin_reg_3.predict(poly_reg_3.transform([[2020]]))"
   ]
  },
  {
   "cell_type": "code",
   "execution_count": null,
   "id": "777b4c9f",
   "metadata": {},
   "outputs": [],
   "source": [
    "x_grid = np.arange(min(x), max(x), 0.1)\n",
    "x_grid = x_grid.reshape(len(x_grid),1)\n",
    "x_poly_grid = poly_reg_3.fit_transform(x_grid)"
   ]
  },
  {
   "cell_type": "code",
   "execution_count": null,
   "id": "2ec8602b",
   "metadata": {},
   "outputs": [],
   "source": [
    "plt.scatter(x,y,color='red')\n",
    "plt.plot(x_grid,lin_reg_3.predict(x_poly_grid),color='blue')\n",
    "plt.title('Demand value curve by year')\n",
    "plt.ylabel('Demand Value')\n",
    "plt.xlabel('Year')\n",
    "plt.show()"
   ]
  },
  {
   "cell_type": "code",
   "execution_count": null,
   "id": "35e9e3c7",
   "metadata": {},
   "outputs": [],
   "source": []
  },
  {
   "cell_type": "code",
   "execution_count": null,
   "id": "ca25bf2e",
   "metadata": {},
   "outputs": [],
   "source": []
  },
  {
   "cell_type": "code",
   "execution_count": null,
   "id": "50e5b77c",
   "metadata": {},
   "outputs": [],
   "source": []
  }
 ],
 "metadata": {
  "kernelspec": {
   "display_name": "Python 3 (ipykernel)",
   "language": "python",
   "name": "python3"
  },
  "language_info": {
   "codemirror_mode": {
    "name": "ipython",
    "version": 3
   },
   "file_extension": ".py",
   "mimetype": "text/x-python",
   "name": "python",
   "nbconvert_exporter": "python",
   "pygments_lexer": "ipython3",
   "version": "3.9.7"
  }
 },
 "nbformat": 4,
 "nbformat_minor": 5
}
